{
 "cells": [
  {
   "cell_type": "markdown",
   "metadata": {
    "collapsed": true,
    "pycharm": {
     "name": "#%% md\n"
    }
   },
   "source": [
    "# generator -- 生成器\n"
   ]
  },
  {
   "cell_type": "code",
   "execution_count": 2,
   "outputs": [
    {
     "data": {
      "text/plain": "1"
     },
     "execution_count": 2,
     "metadata": {},
     "output_type": "execute_result"
    }
   ],
   "source": [
    "# 定义方式一：()\n",
    "g = (x * x for x in range(10))\n",
    "# 调用方式：next函数和迭代\n",
    "next(g)"
   ],
   "metadata": {
    "collapsed": false,
    "pycharm": {
     "name": "#%%\n"
    }
   }
  },
  {
   "cell_type": "code",
   "execution_count": 6,
   "outputs": [],
   "source": [
    "for i in g:\n",
    "    print(i)\n"
   ],
   "metadata": {
    "collapsed": false,
    "pycharm": {
     "name": "#%%\n"
    }
   }
  },
  {
   "cell_type": "code",
   "execution_count": 2,
   "outputs": [
    {
     "name": "stdout",
     "output_type": "stream",
     "text": [
      "1\n",
      "1\n",
      "2\n",
      "3\n",
      "5\n",
      "8\n",
      "13\n",
      "21\n",
      "34\n",
      "55\n"
     ]
    }
   ],
   "source": [
    "# 定义方式二：yield\n",
    "def fib(n):\n",
    "    count = 0\n",
    "    a, b = 0, 1\n",
    "    while count < n:\n",
    "        yield b\n",
    "        a, b = b, a + b\n",
    "        count += 1\n",
    "    return 'done!'\n",
    "f = fib(10)\n",
    "# next(f)\n",
    "for i in f:\n",
    "    print(i)"
   ],
   "metadata": {
    "collapsed": false,
    "pycharm": {
     "name": "#%%\n"
    }
   }
  },
  {
   "cell_type": "markdown",
   "source": [
    "用for循环调用生成器时，拿不到return的值。\n",
    "如果想拿到return的值，需要捕获StopIteration错误对象，返回值包含在StopIteration对象的value属性中。"
   ],
   "metadata": {
    "collapsed": false
   }
  },
  {
   "cell_type": "code",
   "execution_count": 3,
   "outputs": [
    {
     "name": "stdout",
     "output_type": "stream",
     "text": [
      "f: 1\n",
      "f: 1\n",
      "f: 2\n",
      "f: 3\n",
      "f: 5\n",
      "f: 8\n",
      "f: 13\n",
      "f: 21\n",
      "f: 34\n",
      "f: 55\n",
      "generator return value: done!\n"
     ]
    }
   ],
   "source": [
    "f = fib(10)\n",
    "while True:\n",
    "    try:\n",
    "        print('f:', next(f))\n",
    "    except StopIteration as e:\n",
    "        print('generator return value:', e.value)\n",
    "        break"
   ],
   "metadata": {
    "collapsed": false,
    "pycharm": {
     "name": "#%%\n"
    }
   }
  },
  {
   "cell_type": "code",
   "execution_count": 4,
   "outputs": [
    {
     "name": "stdout",
     "output_type": "stream",
     "text": [
      "[1]\n",
      "[1, 1]\n",
      "[1, 2, 1]\n",
      "[1, 3, 3, 1]\n",
      "[1, 4, 6, 4, 1]\n",
      "[1, 5, 10, 10, 5, 1]\n",
      "[1, 6, 15, 20, 15, 6, 1]\n",
      "[1, 7, 21, 35, 35, 21, 7, 1]\n",
      "[1, 8, 28, 56, 70, 56, 28, 8, 1]\n",
      "[1, 9, 36, 84, 126, 126, 84, 36, 9, 1]\n"
     ]
    }
   ],
   "source": [
    "# 杨辉三角\n",
    "def triangles():\n",
    "    l = [1]\n",
    "    while True:\n",
    "        yield l\n",
    "        l = [0] + l + [0]\n",
    "        l = [l[i] + l[i + 1] for i in range(len(l) - 1)]\n",
    "\n",
    "n = 0\n",
    "result = []\n",
    "for t in triangles():\n",
    "    result.append(t)\n",
    "    n += 1\n",
    "    if n == 10:\n",
    "        break\n",
    "for t in result:\n",
    "    print(t)"
   ],
   "metadata": {
    "collapsed": false,
    "pycharm": {
     "name": "#%%\n"
    }
   }
  }
 ],
 "metadata": {
  "kernelspec": {
   "display_name": "Python 3",
   "language": "python",
   "name": "python3"
  },
  "language_info": {
   "codemirror_mode": {
    "name": "ipython",
    "version": 2
   },
   "file_extension": ".py",
   "mimetype": "text/x-python",
   "name": "python",
   "nbconvert_exporter": "python",
   "pygments_lexer": "ipython2",
   "version": "2.7.6"
  }
 },
 "nbformat": 4,
 "nbformat_minor": 0
}