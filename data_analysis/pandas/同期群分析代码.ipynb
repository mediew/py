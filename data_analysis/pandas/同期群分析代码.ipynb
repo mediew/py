{
 "cells": [
  {
   "cell_type": "markdown",
   "metadata": {},
   "source": [
    "### 作者：小z\n",
    "### 公众号：数据不吹牛\n",
    "### 更多有趣干货，不来看看？"
   ]
  },
  {
   "cell_type": "code",
   "execution_count": null,
   "metadata": {
    "collapsed": true
   },
   "outputs": [],
   "source": [
    "import pandas as pd\n",
    "import os\n",
    "import warnings"
   ]
  },
  {
   "cell_type": "code",
   "execution_count": 36,
   "metadata": {
    "collapsed": true
   },
   "outputs": [],
   "source": [
    "warnings.filterwarnings(\"ignore\")"
   ]
  },
  {
   "cell_type": "code",
   "execution_count": 108,
   "metadata": {
    "collapsed": false
   },
   "outputs": [],
   "source": [
    "os.chdir('C:\\\\Users\\\\order')"
   ]
  },
  {
   "cell_type": "markdown",
   "metadata": {},
   "source": [
    "### 1、数据概览"
   ]
  },
  {
   "cell_type": "code",
   "execution_count": 81,
   "metadata": {
    "collapsed": false
   },
   "outputs": [
    {
     "data": {
      "text/html": [
       "<div>\n",
       "<style scoped>\n",
       "    .dataframe tbody tr th:only-of-type {\n",
       "        vertical-align: middle;\n",
       "    }\n",
       "\n",
       "    .dataframe tbody tr th {\n",
       "        vertical-align: top;\n",
       "    }\n",
       "\n",
       "    .dataframe thead th {\n",
       "        text-align: right;\n",
       "    }\n",
       "</style>\n",
       "<table border=\"1\" class=\"dataframe\">\n",
       "  <thead>\n",
       "    <tr style=\"text-align: right;\">\n",
       "      <th></th>\n",
       "      <th>平台</th>\n",
       "      <th>店铺名称</th>\n",
       "      <th>客户昵称</th>\n",
       "      <th>付款时间</th>\n",
       "      <th>订单状态</th>\n",
       "      <th>支付金额</th>\n",
       "      <th>购买数量</th>\n",
       "      <th>省份</th>\n",
       "    </tr>\n",
       "  </thead>\n",
       "  <tbody>\n",
       "    <tr>\n",
       "      <th>0</th>\n",
       "      <td>线上</td>\n",
       "      <td>小z杂货铺</td>\n",
       "      <td>入倩出入深</td>\n",
       "      <td>2019-09-01 00:10:04</td>\n",
       "      <td>交易成功</td>\n",
       "      <td>15.2</td>\n",
       "      <td>1</td>\n",
       "      <td>江苏省</td>\n",
       "    </tr>\n",
       "    <tr>\n",
       "      <th>1</th>\n",
       "      <td>线上</td>\n",
       "      <td>小z杂货铺</td>\n",
       "      <td>愛hya爱</td>\n",
       "      <td>2019-09-01 00:14:52</td>\n",
       "      <td>交易成功</td>\n",
       "      <td>8.4</td>\n",
       "      <td>1</td>\n",
       "      <td>广东省</td>\n",
       "    </tr>\n",
       "    <tr>\n",
       "      <th>2</th>\n",
       "      <td>线上</td>\n",
       "      <td>小z杂货铺</td>\n",
       "      <td>象95象大</td>\n",
       "      <td>2019-09-01 02:17:15</td>\n",
       "      <td>交易成功</td>\n",
       "      <td>8.4</td>\n",
       "      <td>1</td>\n",
       "      <td>辽宁省</td>\n",
       "    </tr>\n",
       "    <tr>\n",
       "      <th>3</th>\n",
       "      <td>线上</td>\n",
       "      <td>小z杂货铺</td>\n",
       "      <td>卡哇伊氛十</td>\n",
       "      <td>2019-09-01 03:37:28</td>\n",
       "      <td>交易成功</td>\n",
       "      <td>22.0</td>\n",
       "      <td>1</td>\n",
       "      <td>广西壮族自治区</td>\n",
       "    </tr>\n",
       "    <tr>\n",
       "      <th>4</th>\n",
       "      <td>线上</td>\n",
       "      <td>小z杂货铺</td>\n",
       "      <td>一只羊哈阿</td>\n",
       "      <td>2019-09-01 08:53:50</td>\n",
       "      <td>交易成功</td>\n",
       "      <td>85.0</td>\n",
       "      <td>1</td>\n",
       "      <td>辽宁省</td>\n",
       "    </tr>\n",
       "  </tbody>\n",
       "</table>\n",
       "</div>"
      ],
      "text/plain": [
       "   平台   店铺名称   客户昵称                付款时间  订单状态  支付金额  购买数量       省份\n",
       "0  线上  小z杂货铺  入倩出入深 2019-09-01 00:10:04  交易成功  15.2     1      江苏省\n",
       "1  线上  小z杂货铺  愛hya爱 2019-09-01 00:14:52  交易成功   8.4     1      广东省\n",
       "2  线上  小z杂货铺  象95象大 2019-09-01 02:17:15  交易成功   8.4     1      辽宁省\n",
       "3  线上  小z杂货铺  卡哇伊氛十 2019-09-01 03:37:28  交易成功  22.0     1  广西壮族自治区\n",
       "4  线上  小z杂货铺  一只羊哈阿 2019-09-01 08:53:50  交易成功  85.0     1      辽宁省"
      ]
     },
     "execution_count": 81,
     "metadata": {},
     "output_type": "execute_result"
    }
   ],
   "source": [
    "df = pd.read_excel('同期群订单数据.xlsx')\n",
    "df.head()"
   ]
  },
  {
   "cell_type": "code",
   "execution_count": 82,
   "metadata": {
    "collapsed": false
   },
   "outputs": [
    {
     "name": "stdout",
     "output_type": "stream",
     "text": [
      "<class 'pandas.core.frame.DataFrame'>\n",
      "RangeIndex: 42713 entries, 0 to 42712\n",
      "Data columns (total 8 columns):\n",
      "平台      42713 non-null object\n",
      "店铺名称    42713 non-null object\n",
      "客户昵称    42713 non-null object\n",
      "付款时间    40339 non-null datetime64[ns]\n",
      "订单状态    42713 non-null object\n",
      "支付金额    42713 non-null float64\n",
      "购买数量    42713 non-null int64\n",
      "省份      42713 non-null object\n",
      "dtypes: datetime64[ns](1), float64(1), int64(1), object(5)\n",
      "memory usage: 2.6+ MB\n"
     ]
    }
   ],
   "source": [
    "df.info()"
   ]
  },
  {
   "cell_type": "markdown",
   "metadata": {},
   "source": [
    "### 2、数据清洗"
   ]
  },
  {
   "cell_type": "code",
   "execution_count": 83,
   "metadata": {
    "collapsed": false
   },
   "outputs": [
    {
     "data": {
      "text/html": [
       "<div>\n",
       "<style scoped>\n",
       "    .dataframe tbody tr th:only-of-type {\n",
       "        vertical-align: middle;\n",
       "    }\n",
       "\n",
       "    .dataframe tbody tr th {\n",
       "        vertical-align: top;\n",
       "    }\n",
       "\n",
       "    .dataframe thead th {\n",
       "        text-align: right;\n",
       "    }\n",
       "</style>\n",
       "<table border=\"1\" class=\"dataframe\">\n",
       "  <thead>\n",
       "    <tr style=\"text-align: right;\">\n",
       "      <th></th>\n",
       "      <th>平台</th>\n",
       "      <th>店铺名称</th>\n",
       "      <th>客户昵称</th>\n",
       "      <th>付款时间</th>\n",
       "      <th>订单状态</th>\n",
       "      <th>支付金额</th>\n",
       "      <th>购买数量</th>\n",
       "      <th>省份</th>\n",
       "    </tr>\n",
       "  </thead>\n",
       "  <tbody>\n",
       "    <tr>\n",
       "      <th>40339</th>\n",
       "      <td>线上</td>\n",
       "      <td>小z杂货铺</td>\n",
       "      <td>爱购物nx</td>\n",
       "      <td>NaT</td>\n",
       "      <td>交易失败</td>\n",
       "      <td>97.8</td>\n",
       "      <td>1</td>\n",
       "      <td>浙江省</td>\n",
       "    </tr>\n",
       "    <tr>\n",
       "      <th>40340</th>\n",
       "      <td>线上</td>\n",
       "      <td>小z杂货铺</td>\n",
       "      <td>975ay</td>\n",
       "      <td>NaT</td>\n",
       "      <td>交易失败</td>\n",
       "      <td>117.3</td>\n",
       "      <td>2</td>\n",
       "      <td>浙江省</td>\n",
       "    </tr>\n",
       "    <tr>\n",
       "      <th>40341</th>\n",
       "      <td>线上</td>\n",
       "      <td>小z杂货铺</td>\n",
       "      <td>101呆阿</td>\n",
       "      <td>NaT</td>\n",
       "      <td>交易失败</td>\n",
       "      <td>144.5</td>\n",
       "      <td>2</td>\n",
       "      <td>新疆维吾尔自治区</td>\n",
       "    </tr>\n",
       "    <tr>\n",
       "      <th>40342</th>\n",
       "      <td>线上</td>\n",
       "      <td>小z杂货铺</td>\n",
       "      <td>489bt</td>\n",
       "      <td>NaT</td>\n",
       "      <td>交易失败</td>\n",
       "      <td>92.7</td>\n",
       "      <td>1</td>\n",
       "      <td>江苏省</td>\n",
       "    </tr>\n",
       "    <tr>\n",
       "      <th>40343</th>\n",
       "      <td>线上</td>\n",
       "      <td>小z杂货铺</td>\n",
       "      <td>姚琳儿姚姚</td>\n",
       "      <td>NaT</td>\n",
       "      <td>交易失败</td>\n",
       "      <td>8.4</td>\n",
       "      <td>1</td>\n",
       "      <td>广东省</td>\n",
       "    </tr>\n",
       "  </tbody>\n",
       "</table>\n",
       "</div>"
      ],
      "text/plain": [
       "       平台   店铺名称   客户昵称 付款时间  订单状态   支付金额  购买数量        省份\n",
       "40339  线上  小z杂货铺  爱购物nx  NaT  交易失败   97.8     1       浙江省\n",
       "40340  线上  小z杂货铺  975ay  NaT  交易失败  117.3     2       浙江省\n",
       "40341  线上  小z杂货铺  101呆阿  NaT  交易失败  144.5     2  新疆维吾尔自治区\n",
       "40342  线上  小z杂货铺  489bt  NaT  交易失败   92.7     1       江苏省\n",
       "40343  线上  小z杂货铺  姚琳儿姚姚  NaT  交易失败    8.4     1       广东省"
      ]
     },
     "execution_count": 83,
     "metadata": {},
     "output_type": "execute_result"
    }
   ],
   "source": [
    "df.loc[df['付款时间'].isnull(),:].head()"
   ]
  },
  {
   "cell_type": "code",
   "execution_count": 84,
   "metadata": {
    "collapsed": false
   },
   "outputs": [
    {
     "data": {
      "text/plain": [
       "交易失败    2374\n",
       "Name: 订单状态, dtype: int64"
      ]
     },
     "execution_count": 84,
     "metadata": {},
     "output_type": "execute_result"
    }
   ],
   "source": [
    "df.loc[df['付款时间'].isnull(),:]['订单状态'].value_counts()"
   ]
  },
  {
   "cell_type": "code",
   "execution_count": 85,
   "metadata": {
    "collapsed": false
   },
   "outputs": [
    {
     "data": {
      "text/plain": [
       "交易成功    40339\n",
       "Name: 订单状态, dtype: int64"
      ]
     },
     "execution_count": 85,
     "metadata": {},
     "output_type": "execute_result"
    }
   ],
   "source": [
    "df.loc[df['付款时间'].isnull() == False,:]['订单状态'].value_counts()"
   ]
  },
  {
   "cell_type": "code",
   "execution_count": 110,
   "metadata": {
    "collapsed": false
   },
   "outputs": [
    {
     "name": "stdout",
     "output_type": "stream",
     "text": [
      "<class 'pandas.core.frame.DataFrame'>\n",
      "Int64Index: 40339 entries, 0 to 40338\n",
      "Data columns (total 8 columns):\n",
      "平台      40339 non-null object\n",
      "店铺名称    40339 non-null object\n",
      "客户昵称    40339 non-null object\n",
      "付款时间    40339 non-null datetime64[ns]\n",
      "订单状态    40339 non-null object\n",
      "支付金额    40339 non-null float64\n",
      "购买数量    40339 non-null int64\n",
      "省份      40339 non-null object\n",
      "dtypes: datetime64[ns](1), float64(1), int64(1), object(5)\n",
      "memory usage: 2.8+ MB\n"
     ]
    }
   ],
   "source": [
    "order = df.loc[df['付款时间'].isnull() == False,:]\n",
    "order.info()"
   ]
  },
  {
   "cell_type": "markdown",
   "metadata": {},
   "source": [
    "### 3、单月实现"
   ]
  },
  {
   "cell_type": "code",
   "execution_count": 111,
   "metadata": {
    "collapsed": false
   },
   "outputs": [
    {
     "data": {
      "text/plain": [
       "2019-09    2201\n",
       "2019-10    8096\n",
       "2019-11    6050\n",
       "2019-12    6760\n",
       "2020-01    7443\n",
       "2020-02    9789\n",
       "Name: 时间标签, dtype: int64"
      ]
     },
     "execution_count": 111,
     "metadata": {},
     "output_type": "execute_result"
    }
   ],
   "source": [
    "order['时间标签'] = order['付款时间'].astype(str).str[:7]\n",
    "order['时间标签'].value_counts().sort_index()"
   ]
  },
  {
   "cell_type": "markdown",
   "metadata": {},
   "source": [
    "#### 计算2019年10月客户情况"
   ]
  },
  {
   "cell_type": "code",
   "execution_count": 103,
   "metadata": {
    "collapsed": false
   },
   "outputs": [
    {
     "name": "stdout",
     "output_type": "stream",
     "text": [
      "10月订单数量： 8096\n",
      "10月客户数量： 7336\n"
     ]
    },
    {
     "data": {
      "text/html": [
       "<div>\n",
       "<style scoped>\n",
       "    .dataframe tbody tr th:only-of-type {\n",
       "        vertical-align: middle;\n",
       "    }\n",
       "\n",
       "    .dataframe tbody tr th {\n",
       "        vertical-align: top;\n",
       "    }\n",
       "\n",
       "    .dataframe thead th {\n",
       "        text-align: right;\n",
       "    }\n",
       "</style>\n",
       "<table border=\"1\" class=\"dataframe\">\n",
       "  <thead>\n",
       "    <tr style=\"text-align: right;\">\n",
       "      <th></th>\n",
       "      <th>客户昵称</th>\n",
       "      <th>支付金额</th>\n",
       "    </tr>\n",
       "  </thead>\n",
       "  <tbody>\n",
       "    <tr>\n",
       "      <th>0</th>\n",
       "      <td>0000栗</td>\n",
       "      <td>4.2</td>\n",
       "    </tr>\n",
       "    <tr>\n",
       "      <th>1</th>\n",
       "      <td>000ab</td>\n",
       "      <td>16.8</td>\n",
       "    </tr>\n",
       "    <tr>\n",
       "      <th>2</th>\n",
       "      <td>000al</td>\n",
       "      <td>16.8</td>\n",
       "    </tr>\n",
       "    <tr>\n",
       "      <th>3</th>\n",
       "      <td>000bb</td>\n",
       "      <td>16.8</td>\n",
       "    </tr>\n",
       "    <tr>\n",
       "      <th>4</th>\n",
       "      <td>000il</td>\n",
       "      <td>16.8</td>\n",
       "    </tr>\n",
       "  </tbody>\n",
       "</table>\n",
       "</div>"
      ],
      "text/plain": [
       "    客户昵称  支付金额\n",
       "0  0000栗   4.2\n",
       "1  000ab  16.8\n",
       "2  000al  16.8\n",
       "3  000bb  16.8\n",
       "4  000il  16.8"
      ]
     },
     "execution_count": 103,
     "metadata": {},
     "output_type": "execute_result"
    }
   ],
   "source": [
    "month = '2019-10'\n",
    "sample = order.loc[order['时间标签'] == month,:]\n",
    "print('10月订单数量：',len(sample))\n",
    "sample.head()\n",
    "sample_c = sample.groupby('客户昵称')['支付金额'].sum().reset_index()\n",
    "print('10月客户数量：',len(sample_c))\n",
    "sample_c.head()"
   ]
  },
  {
   "cell_type": "code",
   "execution_count": 89,
   "metadata": {
    "collapsed": false
   },
   "outputs": [
    {
     "data": {
      "text/html": [
       "<div>\n",
       "<style scoped>\n",
       "    .dataframe tbody tr th:only-of-type {\n",
       "        vertical-align: middle;\n",
       "    }\n",
       "\n",
       "    .dataframe tbody tr th {\n",
       "        vertical-align: top;\n",
       "    }\n",
       "\n",
       "    .dataframe thead th {\n",
       "        text-align: right;\n",
       "    }\n",
       "</style>\n",
       "<table border=\"1\" class=\"dataframe\">\n",
       "  <thead>\n",
       "    <tr style=\"text-align: right;\">\n",
       "      <th></th>\n",
       "      <th>平台</th>\n",
       "      <th>店铺名称</th>\n",
       "      <th>客户昵称</th>\n",
       "      <th>付款时间</th>\n",
       "      <th>订单状态</th>\n",
       "      <th>支付金额</th>\n",
       "      <th>购买数量</th>\n",
       "      <th>省份</th>\n",
       "      <th>时间标签</th>\n",
       "    </tr>\n",
       "  </thead>\n",
       "  <tbody>\n",
       "    <tr>\n",
       "      <th>0</th>\n",
       "      <td>线上</td>\n",
       "      <td>小z杂货铺</td>\n",
       "      <td>入倩出入深</td>\n",
       "      <td>2019-09-01 00:10:04</td>\n",
       "      <td>交易成功</td>\n",
       "      <td>15.2</td>\n",
       "      <td>1</td>\n",
       "      <td>江苏省</td>\n",
       "      <td>2019-09</td>\n",
       "    </tr>\n",
       "    <tr>\n",
       "      <th>1</th>\n",
       "      <td>线上</td>\n",
       "      <td>小z杂货铺</td>\n",
       "      <td>愛hya爱</td>\n",
       "      <td>2019-09-01 00:14:52</td>\n",
       "      <td>交易成功</td>\n",
       "      <td>8.4</td>\n",
       "      <td>1</td>\n",
       "      <td>广东省</td>\n",
       "      <td>2019-09</td>\n",
       "    </tr>\n",
       "    <tr>\n",
       "      <th>2</th>\n",
       "      <td>线上</td>\n",
       "      <td>小z杂货铺</td>\n",
       "      <td>象95象大</td>\n",
       "      <td>2019-09-01 02:17:15</td>\n",
       "      <td>交易成功</td>\n",
       "      <td>8.4</td>\n",
       "      <td>1</td>\n",
       "      <td>辽宁省</td>\n",
       "      <td>2019-09</td>\n",
       "    </tr>\n",
       "    <tr>\n",
       "      <th>3</th>\n",
       "      <td>线上</td>\n",
       "      <td>小z杂货铺</td>\n",
       "      <td>卡哇伊氛十</td>\n",
       "      <td>2019-09-01 03:37:28</td>\n",
       "      <td>交易成功</td>\n",
       "      <td>22.0</td>\n",
       "      <td>1</td>\n",
       "      <td>广西壮族自治区</td>\n",
       "      <td>2019-09</td>\n",
       "    </tr>\n",
       "    <tr>\n",
       "      <th>4</th>\n",
       "      <td>线上</td>\n",
       "      <td>小z杂货铺</td>\n",
       "      <td>一只羊哈阿</td>\n",
       "      <td>2019-09-01 08:53:50</td>\n",
       "      <td>交易成功</td>\n",
       "      <td>85.0</td>\n",
       "      <td>1</td>\n",
       "      <td>辽宁省</td>\n",
       "      <td>2019-09</td>\n",
       "    </tr>\n",
       "  </tbody>\n",
       "</table>\n",
       "</div>"
      ],
      "text/plain": [
       "   平台   店铺名称   客户昵称                付款时间  订单状态  支付金额  购买数量       省份     时间标签\n",
       "0  线上  小z杂货铺  入倩出入深 2019-09-01 00:10:04  交易成功  15.2     1      江苏省  2019-09\n",
       "1  线上  小z杂货铺  愛hya爱 2019-09-01 00:14:52  交易成功   8.4     1      广东省  2019-09\n",
       "2  线上  小z杂货铺  象95象大 2019-09-01 02:17:15  交易成功   8.4     1      辽宁省  2019-09\n",
       "3  线上  小z杂货铺  卡哇伊氛十 2019-09-01 03:37:28  交易成功  22.0     1  广西壮族自治区  2019-09\n",
       "4  线上  小z杂货铺  一只羊哈阿 2019-09-01 08:53:50  交易成功  85.0     1      辽宁省  2019-09"
      ]
     },
     "execution_count": 89,
     "metadata": {},
     "output_type": "execute_result"
    }
   ],
   "source": [
    "history = order.loc[order['时间标签'] == '2019-09',:]\n",
    "history.head()"
   ]
  },
  {
   "cell_type": "code",
   "execution_count": 90,
   "metadata": {
    "collapsed": false
   },
   "outputs": [
    {
     "name": "stdout",
     "output_type": "stream",
     "text": [
      "2019年10月新增客户： 7083\n"
     ]
    },
    {
     "data": {
      "text/html": [
       "<div>\n",
       "<style scoped>\n",
       "    .dataframe tbody tr th:only-of-type {\n",
       "        vertical-align: middle;\n",
       "    }\n",
       "\n",
       "    .dataframe tbody tr th {\n",
       "        vertical-align: top;\n",
       "    }\n",
       "\n",
       "    .dataframe thead th {\n",
       "        text-align: right;\n",
       "    }\n",
       "</style>\n",
       "<table border=\"1\" class=\"dataframe\">\n",
       "  <thead>\n",
       "    <tr style=\"text-align: right;\">\n",
       "      <th></th>\n",
       "      <th>客户昵称</th>\n",
       "      <th>付款时间</th>\n",
       "    </tr>\n",
       "  </thead>\n",
       "  <tbody>\n",
       "    <tr>\n",
       "      <th>0</th>\n",
       "      <td>0000栗</td>\n",
       "      <td>1</td>\n",
       "    </tr>\n",
       "    <tr>\n",
       "      <th>1</th>\n",
       "      <td>000ab</td>\n",
       "      <td>1</td>\n",
       "    </tr>\n",
       "    <tr>\n",
       "      <th>2</th>\n",
       "      <td>000al</td>\n",
       "      <td>1</td>\n",
       "    </tr>\n",
       "    <tr>\n",
       "      <th>3</th>\n",
       "      <td>000bb</td>\n",
       "      <td>1</td>\n",
       "    </tr>\n",
       "    <tr>\n",
       "      <th>4</th>\n",
       "      <td>000il</td>\n",
       "      <td>1</td>\n",
       "    </tr>\n",
       "  </tbody>\n",
       "</table>\n",
       "</div>"
      ],
      "text/plain": [
       "    客户昵称  付款时间\n",
       "0  0000栗     1\n",
       "1  000ab     1\n",
       "2  000al     1\n",
       "3  000bb     1\n",
       "4  000il     1"
      ]
     },
     "execution_count": 90,
     "metadata": {},
     "output_type": "execute_result"
    }
   ],
   "source": [
    "sample_c = sample_c.loc[sample_c['客户昵称'].isin(history['客户昵称']) == False,:]\n",
    "print('2019年10月新增客户：',len(sample_c))\n",
    "sample_c.head()"
   ]
  },
  {
   "cell_type": "code",
   "execution_count": 91,
   "metadata": {
    "collapsed": false
   },
   "outputs": [
    {
     "data": {
      "text/plain": [
       "[['2019-11留存情况：', 539],\n",
       " ['2019-12留存情况：', 428],\n",
       " ['2020-01留存情况：', 414],\n",
       " ['2020-02留存情况：', 426]]"
      ]
     },
     "execution_count": 91,
     "metadata": {},
     "output_type": "execute_result"
    }
   ],
   "source": [
    "re = []\n",
    "for i in ['2019-11', '2019-12', '2020-01', '2020-02']:\n",
    "    next_month = order.loc[order['时间标签'] == i,:]\n",
    "    target_users = sample_c.loc[sample_c['客户昵称'].isin(next_month['客户昵称']) == True,:]\n",
    "    re.append([i+'留存情况：',len(target_users)])\n",
    "re"
   ]
  },
  {
   "cell_type": "code",
   "execution_count": 92,
   "metadata": {
    "collapsed": false
   },
   "outputs": [
    {
     "data": {
      "text/plain": [
       "[['2019年10月新增客户：', 7083],\n",
       " ['2019-11留存情况：', 539],\n",
       " ['2019-12留存情况：', 428],\n",
       " ['2020-01留存情况：', 414],\n",
       " ['2020-02留存情况：', 426]]"
      ]
     },
     "execution_count": 92,
     "metadata": {},
     "output_type": "execute_result"
    }
   ],
   "source": [
    "re.insert(0,['2019年10月新增客户：',len(sample_c)])\n",
    "re"
   ]
  },
  {
   "cell_type": "markdown",
   "metadata": {},
   "source": [
    "### 完整代码"
   ]
  },
  {
   "cell_type": "code",
   "execution_count": 123,
   "metadata": {
    "collapsed": false
   },
   "outputs": [],
   "source": [
    "#引入时间标签\n",
    "month_lst = order['时间标签'].unique()\n",
    "final = pd.DataFrame()\n",
    "\n",
    "for i in range(len(month_lst) - 1):\n",
    "    \n",
    "    #构造和月份一样长的列表，方便后续格式统一\n",
    "    count = [0] * len(month_lst)\n",
    "    \n",
    "    #筛选出当月订单，并按客户昵称分组\n",
    "    target_month = order.loc[order['时间标签'] == month_lst[i],:]\n",
    "    target_users = target_month.groupby('客户昵称')['支付金额'].sum().reset_index()\n",
    "    \n",
    "    #如果是第一个月份，则跳过（因为不需要和历史数据验证是否为新增客户）\n",
    "    if i == 0:\n",
    "        new_target_users = target_month.groupby('客户昵称')['支付金额'].sum().reset_index()\n",
    "    else:\n",
    "        #如果不是，找到之前的历史订单\n",
    "        history = order.loc[order['时间标签'].isin(month_lst[:i]),:]\n",
    "        #筛选出未在历史订单出现过的新增客户\n",
    "        new_target_users = target_users.loc[target_users['客户昵称'].isin(history['客户昵称']) == False,:]\n",
    "    \n",
    "    #当月新增客户数放在第一个值中\n",
    "    count[0] = len(new_target_users)\n",
    "    \n",
    "    #以月为单位，循环遍历，计算留存情况\n",
    "    for j,ct in zip(range(i + 1,len(month_lst)),range(1,len(month_lst))):\n",
    "        #下一个月的订单\n",
    "        next_month = order.loc[order['时间标签'] == month_lst[j],:]\n",
    "        next_users = next_month.groupby('客户昵称')['支付金额'].sum().reset_index()\n",
    "        #计算在该月仍然留存的客户数量\n",
    "        isin = new_target_users['客户昵称'].isin(next_users['客户昵称']).sum()\n",
    "        count[ct] = isin\n",
    "        \n",
    "    #格式转置\n",
    "    result = pd.DataFrame({month_lst[i]:count}).T\n",
    "    \n",
    "    #合并\n",
    "    final = pd.concat([final,result])\n",
    "\n",
    "final.columns = ['当月新增','+1月','+2月','+3月','+4月','+5月']"
   ]
  },
  {
   "cell_type": "code",
   "execution_count": 124,
   "metadata": {
    "collapsed": false
   },
   "outputs": [
    {
     "data": {
      "text/html": [
       "<div>\n",
       "<style scoped>\n",
       "    .dataframe tbody tr th:only-of-type {\n",
       "        vertical-align: middle;\n",
       "    }\n",
       "\n",
       "    .dataframe tbody tr th {\n",
       "        vertical-align: top;\n",
       "    }\n",
       "\n",
       "    .dataframe thead th {\n",
       "        text-align: right;\n",
       "    }\n",
       "</style>\n",
       "<table border=\"1\" class=\"dataframe\">\n",
       "  <thead>\n",
       "    <tr style=\"text-align: right;\">\n",
       "      <th></th>\n",
       "      <th>当月新增</th>\n",
       "      <th>+1月</th>\n",
       "      <th>+2月</th>\n",
       "      <th>+3月</th>\n",
       "      <th>+4月</th>\n",
       "      <th>+5月</th>\n",
       "    </tr>\n",
       "  </thead>\n",
       "  <tbody>\n",
       "    <tr>\n",
       "      <th>2019-09</th>\n",
       "      <td>2042</td>\n",
       "      <td>253</td>\n",
       "      <td>219</td>\n",
       "      <td>167</td>\n",
       "      <td>159</td>\n",
       "      <td>165</td>\n",
       "    </tr>\n",
       "    <tr>\n",
       "      <th>2019-10</th>\n",
       "      <td>7083</td>\n",
       "      <td>539</td>\n",
       "      <td>428</td>\n",
       "      <td>414</td>\n",
       "      <td>426</td>\n",
       "      <td>0</td>\n",
       "    </tr>\n",
       "    <tr>\n",
       "      <th>2019-11</th>\n",
       "      <td>4744</td>\n",
       "      <td>448</td>\n",
       "      <td>370</td>\n",
       "      <td>294</td>\n",
       "      <td>0</td>\n",
       "      <td>0</td>\n",
       "    </tr>\n",
       "    <tr>\n",
       "      <th>2019-12</th>\n",
       "      <td>4983</td>\n",
       "      <td>491</td>\n",
       "      <td>340</td>\n",
       "      <td>0</td>\n",
       "      <td>0</td>\n",
       "      <td>0</td>\n",
       "    </tr>\n",
       "    <tr>\n",
       "      <th>2020-01</th>\n",
       "      <td>5126</td>\n",
       "      <td>484</td>\n",
       "      <td>0</td>\n",
       "      <td>0</td>\n",
       "      <td>0</td>\n",
       "      <td>0</td>\n",
       "    </tr>\n",
       "  </tbody>\n",
       "</table>\n",
       "</div>"
      ],
      "text/plain": [
       "         当月新增  +1月  +2月  +3月  +4月  +5月\n",
       "2019-09  2042  253  219  167  159  165\n",
       "2019-10  7083  539  428  414  426    0\n",
       "2019-11  4744  448  370  294    0    0\n",
       "2019-12  4983  491  340    0    0    0\n",
       "2020-01  5126  484    0    0    0    0"
      ]
     },
     "execution_count": 124,
     "metadata": {},
     "output_type": "execute_result"
    }
   ],
   "source": [
    "final"
   ]
  },
  {
   "cell_type": "code",
   "execution_count": 125,
   "metadata": {
    "collapsed": false
   },
   "outputs": [
    {
     "data": {
      "text/html": [
       "<div>\n",
       "<style scoped>\n",
       "    .dataframe tbody tr th:only-of-type {\n",
       "        vertical-align: middle;\n",
       "    }\n",
       "\n",
       "    .dataframe tbody tr th {\n",
       "        vertical-align: top;\n",
       "    }\n",
       "\n",
       "    .dataframe thead th {\n",
       "        text-align: right;\n",
       "    }\n",
       "</style>\n",
       "<table border=\"1\" class=\"dataframe\">\n",
       "  <thead>\n",
       "    <tr style=\"text-align: right;\">\n",
       "      <th></th>\n",
       "      <th>+1月</th>\n",
       "      <th>+2月</th>\n",
       "      <th>+3月</th>\n",
       "      <th>+4月</th>\n",
       "      <th>+5月</th>\n",
       "      <th>当月新增</th>\n",
       "    </tr>\n",
       "  </thead>\n",
       "  <tbody>\n",
       "    <tr>\n",
       "      <th>2019-09</th>\n",
       "      <td>0.123898</td>\n",
       "      <td>0.107248</td>\n",
       "      <td>0.081783</td>\n",
       "      <td>0.077865</td>\n",
       "      <td>0.080803</td>\n",
       "      <td>2042</td>\n",
       "    </tr>\n",
       "    <tr>\n",
       "      <th>2019-10</th>\n",
       "      <td>0.076098</td>\n",
       "      <td>0.060426</td>\n",
       "      <td>0.058450</td>\n",
       "      <td>0.060144</td>\n",
       "      <td>0.000000</td>\n",
       "      <td>7083</td>\n",
       "    </tr>\n",
       "    <tr>\n",
       "      <th>2019-11</th>\n",
       "      <td>0.094435</td>\n",
       "      <td>0.077993</td>\n",
       "      <td>0.061973</td>\n",
       "      <td>0.000000</td>\n",
       "      <td>0.000000</td>\n",
       "      <td>4744</td>\n",
       "    </tr>\n",
       "    <tr>\n",
       "      <th>2019-12</th>\n",
       "      <td>0.098535</td>\n",
       "      <td>0.068232</td>\n",
       "      <td>0.000000</td>\n",
       "      <td>0.000000</td>\n",
       "      <td>0.000000</td>\n",
       "      <td>4983</td>\n",
       "    </tr>\n",
       "    <tr>\n",
       "      <th>2020-01</th>\n",
       "      <td>0.094421</td>\n",
       "      <td>0.000000</td>\n",
       "      <td>0.000000</td>\n",
       "      <td>0.000000</td>\n",
       "      <td>0.000000</td>\n",
       "      <td>5126</td>\n",
       "    </tr>\n",
       "  </tbody>\n",
       "</table>\n",
       "</div>"
      ],
      "text/plain": [
       "              +1月       +2月       +3月       +4月       +5月  当月新增\n",
       "2019-09  0.123898  0.107248  0.081783  0.077865  0.080803  2042\n",
       "2019-10  0.076098  0.060426  0.058450  0.060144  0.000000  7083\n",
       "2019-11  0.094435  0.077993  0.061973  0.000000  0.000000  4744\n",
       "2019-12  0.098535  0.068232  0.000000  0.000000  0.000000  4983\n",
       "2020-01  0.094421  0.000000  0.000000  0.000000  0.000000  5126"
      ]
     },
     "execution_count": 125,
     "metadata": {},
     "output_type": "execute_result"
    }
   ],
   "source": [
    "result = final.divide(final['当月新增'],axis = 0).iloc[:,1:]\n",
    "result['当月新增'] = final['当月新增']\n",
    "result"
   ]
  },
  {
   "cell_type": "code",
   "execution_count": null,
   "metadata": {
    "collapsed": true
   },
   "outputs": [],
   "source": []
  },
  {
   "cell_type": "code",
   "execution_count": null,
   "metadata": {
    "collapsed": true
   },
   "outputs": [],
   "source": []
  }
 ],
 "metadata": {
  "anaconda-cloud": {},
  "kernelspec": {
   "display_name": "Python [default]",
   "language": "python",
   "name": "python3"
  },
  "language_info": {
   "codemirror_mode": {
    "name": "ipython",
    "version": 3
   },
   "file_extension": ".py",
   "mimetype": "text/x-python",
   "name": "python",
   "nbconvert_exporter": "python",
   "pygments_lexer": "ipython3",
   "version": "3.5.2"
  }
 },
 "nbformat": 4,
 "nbformat_minor": 1
}
