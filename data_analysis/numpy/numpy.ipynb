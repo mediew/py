{
 "cells": [
  {
   "cell_type": "markdown",
   "metadata": {},
   "source": [
    "# numpy学习笔记"
   ]
  },
  {
   "cell_type": "code",
   "execution_count": 1,
   "metadata": {
    "pycharm": {
     "name": "#%%\n"
    }
   },
   "outputs": [],
   "source": [
    "import numpy as np"
   ]
  },
  {
   "cell_type": "markdown",
   "metadata": {},
   "source": [
    "## numpy数组的属性"
   ]
  },
  {
   "cell_type": "code",
   "execution_count": null,
   "metadata": {
    "pycharm": {
     "name": "#%%\n"
    }
   },
   "outputs": [],
   "source": [
    "array = np.array([[1, 2, 3], [3, 4, 5]])\n",
    "print(array.ndim)    # 秩，即轴(axis)的数量或维度(dimention)的数量,运行结果为2\n",
    "print(array.shape)   # 数组的维度，对于矩阵，n 行 m 列，运行结果为(2,3)\n",
    "print(array.size)    # 数组元素的总个数，相当于 array.shape 中 n*m 的值，运行结果是2*3=6\n",
    "print(array.dtype)   # ndarray 对象的元素类型，可作为参数指定，如dtype = np.int"
   ]
  },
  {
   "cell_type": "markdown",
   "metadata": {},
   "source": [
    "## 创建numpy数组并设置基本属性"
   ]
  },
  {
   "cell_type": "code",
   "execution_count": null,
   "metadata": {
    "pycharm": {
     "name": "#%%\n"
    }
   },
   "outputs": [],
   "source": [
    "array = np.array([[1, 2, 3], [3, 4, 5]], dtype = np.float32)   # 设置数据类型为浮点型\n",
    "print(array)\n",
    "a = np.zeros((3, 4), dtype = np.int32)      # 设置数据类型为int32，即32位整数型，大数据运算时应减少位数，降低内存消耗\n",
    "print(a)"
   ]
  },
  {
   "cell_type": "code",
   "execution_count": null,
   "metadata": {
    "pycharm": {
     "name": "#%%\n"
    }
   },
   "outputs": [],
   "source": [
    "a = np.ones((3, 3), dtype = np.int32)\n",
    "print(a)"
   ]
  },
  {
   "cell_type": "code",
   "execution_count": null,
   "metadata": {
    "pycharm": {
     "name": "#%%\n"
    }
   },
   "outputs": [],
   "source": [
    "a = np.empty((3, 4))\n",
    "print(a)"
   ]
  },
  {
   "cell_type": "code",
   "execution_count": null,
   "metadata": {
    "pycharm": {
     "name": "#%%\n"
    }
   },
   "outputs": [],
   "source": [
    "a = np.arange(10, 20, 2)   # 这里设置步长为2，默认为1\n",
    "print(a)"
   ]
  },
  {
   "cell_type": "code",
   "execution_count": null,
   "metadata": {
    "pycharm": {
     "name": "#%%\n"
    }
   },
   "outputs": [],
   "source": [
    "a = np.arange(12)\n",
    "print(a)\n",
    "a = a.reshape((3, 4))      # 更改shape为(3, 4)\n",
    "print(a)"
   ]
  },
  {
   "cell_type": "code",
   "execution_count": null,
   "metadata": {
    "pycharm": {
     "name": "#%%\n"
    }
   },
   "outputs": [],
   "source": [
    "a = np.linspace(1, 10, 20)\n",
    "print(a)"
   ]
  },
  {
   "cell_type": "markdown",
   "metadata": {},
   "source": [
    "### random的用法"
   ]
  },
  {
   "cell_type": "code",
   "execution_count": 3,
   "metadata": {},
   "outputs": [
    {
     "data": {
      "text/plain": [
       "array([[0.85798537, 0.92170943],\n",
       "       [0.52348516, 0.64920207],\n",
       "       [0.25766489, 0.43857345],\n",
       "       [0.18236722, 0.00997492]])"
      ]
     },
     "execution_count": 3,
     "metadata": {},
     "output_type": "execute_result"
    }
   ],
   "source": [
    "np.random.rand(4,2)"
   ]
  },
  {
   "cell_type": "code",
   "execution_count": 5,
   "metadata": {},
   "outputs": [
    {
     "data": {
      "text/plain": [
       "0.0187129163609325"
      ]
     },
     "execution_count": 5,
     "metadata": {},
     "output_type": "execute_result"
    }
   ],
   "source": [
    "np.random.randn()"
   ]
  },
  {
   "cell_type": "code",
   "execution_count": 6,
   "metadata": {},
   "outputs": [
    {
     "data": {
      "text/plain": [
       "array([[-0.43776168,  0.7103544 , -0.19656739,  0.15951898],\n",
       "       [-1.84882884,  0.05269134, -0.10497811,  0.24079686]])"
      ]
     },
     "execution_count": 6,
     "metadata": {},
     "output_type": "execute_result"
    }
   ],
   "source": [
    "np.random.randn(2,4)"
   ]
  },
  {
   "cell_type": "code",
   "execution_count": 9,
   "metadata": {},
   "outputs": [
    {
     "data": {
      "text/plain": [
       "array([[19,  9,  3, 11],\n",
       "       [ 3, 13,  7, 16]])"
      ]
     },
     "execution_count": 9,
     "metadata": {},
     "output_type": "execute_result"
    }
   ],
   "source": [
    "np.random.randint(2, 20, size=(2,4))   # 参数分别为最小值，最大值，数组的size"
   ]
  },
  {
   "cell_type": "code",
   "execution_count": 10,
   "metadata": {},
   "outputs": [
    {
     "data": {
      "text/plain": [
       "array([[1, 1],\n",
       "       [3, 4],\n",
       "       [2, 0]])"
      ]
     },
     "execution_count": 10,
     "metadata": {},
     "output_type": "execute_result"
    }
   ],
   "source": [
    "np.random.choice(5,size=(3,2))   # 第一个参数为一维数组或整数，size为生成的数组的size，可选参数replace，为False时生成不重复的数组"
   ]
  },
  {
   "cell_type": "code",
   "execution_count": 11,
   "metadata": {},
   "outputs": [
    {
     "data": {
      "text/plain": [
       "array([['xiaomi', 'sansumg', 'sansumg'],\n",
       "       ['sansumg', 'iphone', 'sansumg'],\n",
       "       ['sansumg', 'moto', 'sansumg']], dtype='<U7')"
      ]
     },
     "execution_count": 11,
     "metadata": {},
     "output_type": "execute_result"
    }
   ],
   "source": [
    "demo_list = ['lenovo', 'sansumg','moto','xiaomi', 'iphone']\n",
    "np.random.choice(demo_list,size=(3,3), p=[0.1,0.6,0.1,0.1,0.1])   # 参数p为每个数据出现的概率"
   ]
  },
  {
   "cell_type": "code",
   "execution_count": 12,
   "metadata": {},
   "outputs": [
    {
     "data": {
      "text/plain": [
       "0.891357038715285"
      ]
     },
     "execution_count": 12,
     "metadata": {},
     "output_type": "execute_result"
    }
   ],
   "source": [
    "np.random.seed(807)\n",
    "np.random.random()"
   ]
  },
  {
   "cell_type": "code",
   "execution_count": 13,
   "metadata": {},
   "outputs": [
    {
     "data": {
      "text/plain": [
       "0.891357038715285"
      ]
     },
     "execution_count": 13,
     "metadata": {},
     "output_type": "execute_result"
    }
   ],
   "source": [
    "np.random.seed(807)\n",
    "np.random.random()"
   ]
  },
  {
   "cell_type": "markdown",
   "metadata": {},
   "source": [
    "## numpy基本运算"
   ]
  },
  {
   "cell_type": "markdown",
   "metadata": {},
   "source": [
    "### 数学运算"
   ]
  },
  {
   "cell_type": "code",
   "execution_count": null,
   "metadata": {
    "pycharm": {
     "name": "#%%\n"
    }
   },
   "outputs": [],
   "source": [
    "a = np.array([1, 2, 3, 4])\n",
    "b = np.arange(5, 9)\n",
    "print(b, a + b, a - b, a * b, a ** b, a * 4, a > 3, a == 3)     # 相应位置的元素做运算\n",
    "print(np.sum(a), np.min(a), np.max(a))"
   ]
  },
  {
   "cell_type": "markdown",
   "metadata": {},
   "source": [
    "### 最值 "
   ]
  },
  {
   "cell_type": "code",
   "execution_count": null,
   "metadata": {
    "pycharm": {
     "name": "#%%\n"
    }
   },
   "outputs": [],
   "source": [
    "c = np.random.random((2, 4))\n",
    "print(c)\n",
    "x = np.sum(c, axis = 1)\n",
    "y = np.sum(c, axis = 0)\n",
    "# axis=0，表示沿着第 0 轴进行操作，即对每一列进行操作；axis=1，表示沿着第1轴进行操作，即对每一行进行操作。注意生成的还是numpy数组对象！\n",
    "print(x, y)"
   ]
  },
  {
   "cell_type": "markdown",
   "metadata": {},
   "source": [
    "### 均值和中值"
   ]
  },
  {
   "cell_type": "code",
   "execution_count": null,
   "metadata": {
    "pycharm": {
     "name": "#%%\n"
    }
   },
   "outputs": [],
   "source": [
    "a = np.array([1, 2, 3, 4])\n",
    "print(a)\n",
    "a_average = np.average(a)\n",
    "a_median = np.median(a)\n",
    "print(a_average, a_median)    # 注意返回的是一个数\n",
    "a = np.array([1, 2, 3, 4, 5], dtype = np.int32)\n",
    "median = np.median(a)         # 注意这里设置了数据类型为整数，median为整数\n",
    "print(median)\n",
    "print(np.cumsum(a))           # 累加操作, 可指定参数0或1，即按行操作或按列操作\n",
    "a = np.array([1, 2, 3, 4])\n",
    "t = a.reshape(2, 2)           # 结果为[[1, 2], [3, 4]]\n",
    "print(t.T)                    # 转秩操作，结果为[[1, 3], [2, 4]]\n",
    "print(np.transpose(t))        # 也是转秩操作"
   ]
  },
  {
   "cell_type": "markdown",
   "metadata": {},
   "source": [
    "### 索引和切片"
   ]
  },
  {
   "cell_type": "code",
   "execution_count": null,
   "metadata": {
    "pycharm": {
     "name": "#%%\n"
    }
   },
   "outputs": [],
   "source": [
    "a = np.arange(10)\n",
    "print(a[2])\n",
    "a = a.reshape(2, 5)\n",
    "print(a[1])\n",
    "print(a[1][0], a[1, 0])       # 两者等效\n",
    "print(a[1, 2:])               # 结果为[7, 8, 9]\n",
    "print(a[1, 0: 2])\n",
    "print(a[a > 5], a[a < 3])     # 筛选数据"
   ]
  },
  {
   "cell_type": "markdown",
   "metadata": {},
   "source": [
    "### 合并、分割"
   ]
  },
  {
   "cell_type": "code",
   "execution_count": null,
   "metadata": {
    "pycharm": {
     "name": "#%%\n"
    }
   },
   "outputs": [],
   "source": [
    "a = np.arange(10)\n",
    "a = a.reshape(2, 5)\n",
    "x = a[0]\n",
    "y = a[1]\n",
    "vst = np.vstack((x, y))             # 垂直合并，vertical stack\n",
    "print(vst)\n",
    "hst = np.hstack((x, y))             # 水平合并，horizal stack\n",
    "print(hst)\n",
    "c = np.arange(12).reshape((3, 4))\n",
    "vsp = np.split(c, 2, axis = 1)      # 垂直分割，vertical stack\n",
    "print('vsp', vsp)\n",
    "hsp = np.split(c, 3, axis = 0)      # 水平分割，horizal stack\n",
    "print('hsp', hsp)\n",
    "vsp_1 = np.vsplit(c, 3)             # 等效于 np.split(c, 3, axis = 0)\n",
    "hsp_1 = np.hsplit(c, 2)             # 等效于 np.split(c, 2, axis = 1)\n",
    "print('vsp_1',vsp_1,'hsp_1', hsp_1)\n",
    "nonequal_sp0 = np.array_split(c, 2, axis = 0)     # 不等量分割\n",
    "nonequal_sp1 = np.array_split(c, 3, axis = 1)\n",
    "print('nonequal_sp0', nonequal_sp0, '\\n', 'nonequal_sp1', nonequal_sp1)"
   ]
  },
  {
   "cell_type": "markdown",
   "metadata": {},
   "source": [
    "### 复制操作"
   ]
  },
  {
   "cell_type": "code",
   "execution_count": null,
   "metadata": {
    "pycharm": {
     "name": "#%%\n"
    }
   },
   "outputs": [],
   "source": [
    "a = np.arange(4)\n",
    "b = a\n",
    "print(a, b)\n",
    "a[1] = 100\n",
    "print(a, b)    # 结果是a, b仍然一样，原因是a = b只是b引用了a，仍然指向原来的内存地址，当a改变后，b也随之发生变化。\n",
    "b = a.copy()\n",
    "print(a, b)\n",
    "a[1] = 1\n",
    "print(a, b)    # a.copy()后，b有了独立的内存地址，不因为a的变而变化"
   ]
  },
  {
   "cell_type": "markdown",
   "metadata": {},
   "source": [
    "## 数组元素的添加和删除"
   ]
  },
  {
   "cell_type": "markdown",
   "metadata": {},
   "source": [
    "### 追加"
   ]
  },
  {
   "cell_type": "code",
   "execution_count": null,
   "metadata": {
    "pycharm": {
     "name": "#%%\n"
    }
   },
   "outputs": [],
   "source": [
    "a = np.array([[1, 2, 3], [4, 5, 6]])\n",
    "j = np.append(a, [7, 8, 9])                            # axis默认为None，此时为横向加成，并返回一维数组，结果为\n",
    "k = np.append(a, [[7, 8, 9]], axis = 0)                # axis = 0, 表示对每一列进行追加操作，结果为\n",
    "i = np.append(a, [['x'], ['y']], axis = 1)             # axis = 1, 表示对每一行进行追加操作，结果为\n",
    "print(a, j, k, i)"
   ]
  },
  {
   "cell_type": "markdown",
   "metadata": {},
   "source": [
    "### 插入"
   ]
  },
  {
   "cell_type": "code",
   "execution_count": null,
   "metadata": {
    "pycharm": {
     "name": "#%%\n"
    }
   },
   "outputs": [],
   "source": [
    "a = [[1, 2], [3, 4], [5, 6]]\n",
    "k = np.insert(a, 3, [7, 8])                            # 3表示索引值，即把[7, 8]插入到索引为3的位置，axis参数为None，返回一个一维数组\n",
    "j = np.insert(a, 1, [11], axis = 0)                    # axis = 0, 表示按列操作，把[11]插入到索引为1的地方，并把[11]扩充为[11, 11]\n",
    "i = np.insert(a, 1, 11, axis = 1)                      # axis = 1, 表示按行操作，把11插入到每一行索引为1的地方\n",
    "print(a, j, k, i)"
   ]
  },
  {
   "cell_type": "markdown",
   "metadata": {},
   "source": [
    "### 删除和去重"
   ]
  },
  {
   "cell_type": "code",
   "execution_count": null,
   "metadata": {
    "pycharm": {
     "name": "#%%\n"
    }
   },
   "outputs": [],
   "source": [
    "a = np.arange(12).reshape(3, 4)\n",
    "k = np.delete(a, 5)                                    # 5为索引值，删除之后返回一个一维数组\n",
    "j = np.delete(a, 1, axis = 1)                          # 删除索引为2的列\n",
    "print(a, k, j)"
   ]
  },
  {
   "cell_type": "markdown",
   "metadata": {},
   "source": [
    "### 切片删除"
   ]
  },
  {
   "cell_type": "code",
   "execution_count": null,
   "metadata": {
    "pycharm": {
     "name": "#%%\n"
    }
   },
   "outputs": [],
   "source": [
    "a = np.arange(1, 11)\n",
    "k = np.delete(a, np.s_[3:6])                           # 删除4，5，6\n",
    "print(a, k)"
   ]
  },
  {
   "cell_type": "markdown",
   "metadata": {},
   "source": [
    "### 去重"
   ]
  },
  {
   "cell_type": "code",
   "execution_count": null,
   "metadata": {
    "pycharm": {
     "name": "#%%\n"
    }
   },
   "outputs": [],
   "source": [
    "a = np.array([1, 1, 2, 3, 1, 4])\n",
    "k = np.unique(a)                                       # 去重\n",
    "j = np.unique(a, return_index = True)                  # 返回去重后的数组，及其中每个元素第一次出现的索引\n",
    "i = np.unique(a, return_counts = True)                 # 返回去重后的数组，及其中每个元素出现的次数\n",
    "print(a, k, j, i)"
   ]
  },
  {
   "cell_type": "markdown",
   "metadata": {},
   "source": [
    "## 字符串拼接"
   ]
  },
  {
   "cell_type": "markdown",
   "metadata": {},
   "source": [
    "### 简单拼接"
   ]
  },
  {
   "cell_type": "code",
   "execution_count": null,
   "metadata": {
    "pycharm": {
     "name": "#%%\n"
    }
   },
   "outputs": [],
   "source": [
    "a = np.char.add(['hello'], ['world'])                      # helloworld\n",
    "b = np.char.add(['hello', 'hi'], ['老王', '老陈'])\n",
    "print(a, b)"
   ]
  },
  {
   "cell_type": "markdown",
   "metadata": {},
   "source": [
    "### 重复生成字符串"
   ]
  },
  {
   "cell_type": "code",
   "execution_count": 3,
   "metadata": {
    "pycharm": {
     "name": "#%%\n"
    }
   },
   "outputs": [
    {
     "name": "stdout",
     "output_type": "stream",
     "text": [
      "对不起对不起对不起对不起对不起对不起对不起对不起对不起对不起\n"
     ]
    }
   ],
   "source": [
    "a = np.char.multiply('对不起', 10)\n",
    "print(a)"
   ]
  },
  {
   "cell_type": "markdown",
   "metadata": {},
   "source": [
    "### 字符串居中"
   ]
  },
  {
   "cell_type": "code",
   "execution_count": null,
   "metadata": {
    "pycharm": {
     "name": "#%%\n"
    }
   },
   "outputs": [],
   "source": [
    "a = np.char.center('helloworld', 30, fillchar = ' ')\n",
    "print(a)"
   ]
  },
  {
   "cell_type": "markdown",
   "metadata": {},
   "source": [
    "### 字符串分割"
   ]
  },
  {
   "cell_type": "code",
   "execution_count": null,
   "metadata": {
    "pycharm": {
     "name": "#%%\n"
    }
   },
   "outputs": [],
   "source": [
    "a = np.char.split('www.baidu.com', sep = '.')\n",
    "b = np.char.split('http://www.baidu.com/news/guoneixinwen', sep = '/')\n",
    "c = np.char.splitlines('i \\nlove \\nyou')\n",
    "print(a, b, c)"
   ]
  },
  {
   "cell_type": "markdown",
   "metadata": {},
   "source": [
    "### 去除开头和结尾的特定字符"
   ]
  },
  {
   "cell_type": "code",
   "execution_count": null,
   "metadata": {
    "pycharm": {
     "name": "#%%\n"
    }
   },
   "outputs": [],
   "source": [
    "a = np.char.strip('     老牛      ', ' ')\n",
    "print(a)"
   ]
  },
  {
   "cell_type": "markdown",
   "metadata": {},
   "source": [
    "### 拼接字符串"
   ]
  },
  {
   "cell_type": "markdown",
   "metadata": {},
   "source": [
    "注意拼接后的字符串**仍是array对象**！"
   ]
  },
  {
   "cell_type": "code",
   "execution_count": null,
   "metadata": {
    "pycharm": {
     "name": "#%%\n"
    }
   },
   "outputs": [],
   "source": [
    "a = np.char.join('/', 'laoniu')\n",
    "print(a)\n",
    "print(type(a))\n",
    "print(a.shape)\n",
    "print(a.size)"
   ]
  },
  {
   "cell_type": "markdown",
   "metadata": {},
   "source": [
    "### 替换"
   ]
  },
  {
   "cell_type": "code",
   "execution_count": null,
   "metadata": {
    "pycharm": {
     "name": "#%%\n"
    }
   },
   "outputs": [],
   "source": [
    "a = np.char.replace('i like laoniu', 'laoniu', 'caixukun')\n",
    "print(a)"
   ]
  },
  {
   "cell_type": "markdown",
   "metadata": {},
   "source": [
    "## 数学函数"
   ]
  },
  {
   "cell_type": "code",
   "execution_count": null,
   "metadata": {
    "pycharm": {
     "name": "#%%\n"
    }
   },
   "outputs": [],
   "source": [
    "a = np.array([0, 30, 45, 60, 90])\n",
    "sin = np.sin(a * np.pi / 180)\n",
    "cos = np.cos(a * np.pi / 180)\n",
    "tan = np.tan(a * np.pi / 180)\n",
    "print(a, sin, cos, tan)\n",
    "a = np.array([1.01, 2.67, 3.45, 1.0, 67, 2.1111])\n",
    "ar = np.around(a, 1)                                   # 四舍五入,1表示保留1位小数\n",
    "fl = np.floor(a)                                       # 向下取整\n",
    "ce = np.ceil(a)                                        # 向上取整\n",
    "print(a, ar, fl, ce)"
   ]
  },
  {
   "cell_type": "markdown",
   "metadata": {},
   "source": [
    "## 统计函数"
   ]
  },
  {
   "cell_type": "markdown",
   "metadata": {},
   "source": [
    "### 极差"
   ]
  },
  {
   "cell_type": "code",
   "execution_count": null,
   "metadata": {
    "pycharm": {
     "name": "#%%\n"
    }
   },
   "outputs": [],
   "source": [
    "a = np.array([[1, 2, 3], [4, 5, 6], [7, 8, 9]])\n",
    "min = np.amin(a, 1)                                          # 计算最小值，1代表按行计算，0代表按列\n",
    "max = np.amax(a, 0)                                          # 计算最大值\n",
    "all_range = np.ptp(a)                                        # 计算全部元素的极差\n",
    "range_1 = np.ptp(a, 1)                                       # 按行计算极差\n",
    "print(a, min, max, all_range, range_1)"
   ]
  },
  {
   "cell_type": "markdown",
   "metadata": {},
   "source": [
    "### 中位数"
   ]
  },
  {
   "cell_type": "code",
   "execution_count": null,
   "metadata": {
    "pycharm": {
     "name": "#%%\n"
    }
   },
   "outputs": [],
   "source": [
    "medi = np.percentile(a, 50)                                  # 计算全部元素的中位数，50表示50%分位\n",
    "m1 = np.percentile(a, 50, axis = 1)                          # 按列计算中位数\n",
    "m = np.median(a)                                             # 直接计算全部元素中位数\n",
    "m0 = np.median(a, axis = 0)                                  # 按列计算中位数\n",
    "print(medi, m1, m, m0)"
   ]
  },
  {
   "cell_type": "markdown",
   "metadata": {},
   "source": [
    "### 平均数"
   ]
  },
  {
   "cell_type": "code",
   "execution_count": null,
   "metadata": {
    "pycharm": {
     "name": "#%%\n"
    }
   },
   "outputs": [],
   "source": [
    "aver = np.mean(a)                                            # 全部元素的平均数\n",
    "a0 = np.mean(a, axis = 0)                                    # 按列计算平均数\n",
    "print(aver, a0)"
   ]
  },
  {
   "cell_type": "markdown",
   "metadata": {},
   "source": [
    "### 标准差和方差"
   ]
  },
  {
   "cell_type": "code",
   "execution_count": null,
   "metadata": {
    "pycharm": {
     "name": "#%%\n"
    }
   },
   "outputs": [],
   "source": [
    "std = np.std(a)\n",
    "var = np.var(a)\n",
    "print(std, var)"
   ]
  }
 ],
 "metadata": {
  "kernelspec": {
   "display_name": "Python 3",
   "language": "python",
   "name": "python3"
  },
  "language_info": {
   "codemirror_mode": {
    "name": "ipython",
    "version": 3
   },
   "file_extension": ".py",
   "mimetype": "text/x-python",
   "name": "python",
   "nbconvert_exporter": "python",
   "pygments_lexer": "ipython3",
   "version": "3.8.3"
  },
  "pycharm": {
   "stem_cell": {
    "cell_type": "raw",
    "metadata": {
     "collapsed": false
    },
    "source": [
     "# numpy\n",
     "\n",
     "\n",
     "\n",
     "\n",
     "\n",
     "\n"
    ]
   }
  }
 },
 "nbformat": 4,
 "nbformat_minor": 1
}
